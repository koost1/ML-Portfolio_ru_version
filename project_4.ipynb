{
 "cells": [
  {
   "cell_type": "markdown",
   "metadata": {},
   "source": [
    "# Проект для «Викишоп»"
   ]
  },
  {
   "cell_type": "markdown",
   "metadata": {},
   "source": [
    "Интернет-магазин «Викишоп» запускает новый сервис. Теперь пользователи могут редактировать и дополнять описания товаров, как в вики-сообществах. То есть клиенты предлагают свои правки и комментируют изменения других. Магазину нужен инструмент, который будет искать токсичные комментарии и отправлять их на модерацию. \n",
    "\n",
    "Обучите модель классифицировать комментарии на позитивные и негативные. В вашем распоряжении набор данных с разметкой о токсичности правок.\n",
    "\n",
    "Постройте модель со значением метрики качества *F1* не меньше 0.75. \n",
    "\n",
    "**Инструкция по выполнению проекта**\n",
    "\n",
    "1. Загрузите и подготовьте данные.\n",
    "2. Обучите разные модели. \n",
    "3. Сделайте выводы.\n",
    "\n",
    "Для выполнения проекта применять *BERT* необязательно, но вы можете попробовать.\n",
    "\n",
    "**Описание данных**\n",
    "\n",
    "Данные находятся в файле `toxic_comments.csv`. Столбец *text* в нём содержит текст комментария, а *toxic* — целевой признак."
   ]
  },
  {
   "cell_type": "markdown",
   "metadata": {},
   "source": [
    "## Импортирование библиотек "
   ]
  },
  {
   "cell_type": "code",
   "execution_count": 1,
   "metadata": {},
   "outputs": [],
   "source": [
    "import pandas as pd\n",
    "from sklearn.model_selection import train_test_split\n",
    "from nltk.stem import WordNetLemmatizer \n",
    "import nltk\n",
    "from nltk.corpus import stopwords\n",
    "import re\n",
    "from sklearn.feature_extraction.text import CountVectorizer\n",
    "from sklearn.tree import DecisionTreeClassifier\n",
    "from sklearn.metrics import f1_score\n",
    "from sklearn.model_selection import GridSearchCV\n",
    "from sklearn.linear_model import LogisticRegression\n",
    "from catboost import CatBoostClassifier\n",
    "from sklearn.feature_extraction.text import TfidfVectorizer"
   ]
  },
  {
   "cell_type": "markdown",
   "metadata": {},
   "source": [
    "## Подготовка"
   ]
  },
  {
   "cell_type": "code",
   "execution_count": 2,
   "metadata": {},
   "outputs": [
    {
     "data": {
      "text/html": [
       "<div>\n",
       "<style scoped>\n",
       "    .dataframe tbody tr th:only-of-type {\n",
       "        vertical-align: middle;\n",
       "    }\n",
       "\n",
       "    .dataframe tbody tr th {\n",
       "        vertical-align: top;\n",
       "    }\n",
       "\n",
       "    .dataframe thead th {\n",
       "        text-align: right;\n",
       "    }\n",
       "</style>\n",
       "<table border=\"1\" class=\"dataframe\">\n",
       "  <thead>\n",
       "    <tr style=\"text-align: right;\">\n",
       "      <th></th>\n",
       "      <th>Unnamed: 0</th>\n",
       "      <th>text</th>\n",
       "      <th>toxic</th>\n",
       "    </tr>\n",
       "  </thead>\n",
       "  <tbody>\n",
       "    <tr>\n",
       "      <th>0</th>\n",
       "      <td>0</td>\n",
       "      <td>Explanation\\nWhy the edits made under my usern...</td>\n",
       "      <td>0</td>\n",
       "    </tr>\n",
       "    <tr>\n",
       "      <th>1</th>\n",
       "      <td>1</td>\n",
       "      <td>D'aww! He matches this background colour I'm s...</td>\n",
       "      <td>0</td>\n",
       "    </tr>\n",
       "    <tr>\n",
       "      <th>2</th>\n",
       "      <td>2</td>\n",
       "      <td>Hey man, I'm really not trying to edit war. It...</td>\n",
       "      <td>0</td>\n",
       "    </tr>\n",
       "    <tr>\n",
       "      <th>3</th>\n",
       "      <td>3</td>\n",
       "      <td>\"\\nMore\\nI can't make any real suggestions on ...</td>\n",
       "      <td>0</td>\n",
       "    </tr>\n",
       "    <tr>\n",
       "      <th>4</th>\n",
       "      <td>4</td>\n",
       "      <td>You, sir, are my hero. Any chance you remember...</td>\n",
       "      <td>0</td>\n",
       "    </tr>\n",
       "  </tbody>\n",
       "</table>\n",
       "</div>"
      ],
      "text/plain": [
       "   Unnamed: 0                                               text  toxic\n",
       "0           0  Explanation\\nWhy the edits made under my usern...      0\n",
       "1           1  D'aww! He matches this background colour I'm s...      0\n",
       "2           2  Hey man, I'm really not trying to edit war. It...      0\n",
       "3           3  \"\\nMore\\nI can't make any real suggestions on ...      0\n",
       "4           4  You, sir, are my hero. Any chance you remember...      0"
      ]
     },
     "execution_count": 2,
     "metadata": {},
     "output_type": "execute_result"
    }
   ],
   "source": [
    "#загружаю датасет\n",
    "try:\n",
    "    data = pd.read_csv('/Users/kostyatrufanov/Downloads/toxic_comments.csv')\n",
    "except:\n",
    "    data = pd.read_csv('/datasets/toxic_comments.csv')\n",
    "    \n",
    "data.head()"
   ]
  },
  {
   "cell_type": "code",
   "execution_count": 3,
   "metadata": {
    "scrolled": true
   },
   "outputs": [
    {
     "name": "stdout",
     "output_type": "stream",
     "text": [
      "<class 'pandas.core.frame.DataFrame'>\n",
      "RangeIndex: 159292 entries, 0 to 159291\n",
      "Data columns (total 3 columns):\n",
      " #   Column      Non-Null Count   Dtype \n",
      "---  ------      --------------   ----- \n",
      " 0   Unnamed: 0  159292 non-null  int64 \n",
      " 1   text        159292 non-null  object\n",
      " 2   toxic       159292 non-null  int64 \n",
      "dtypes: int64(2), object(1)\n",
      "memory usage: 3.6+ MB\n"
     ]
    }
   ],
   "source": [
    "data.info()"
   ]
  },
  {
   "cell_type": "code",
   "execution_count": 4,
   "metadata": {},
   "outputs": [],
   "source": [
    "#поменяю название первого признака\n",
    "data.columns = ['number', 'text', 'toxic']"
   ]
  },
  {
   "cell_type": "code",
   "execution_count": 5,
   "metadata": {},
   "outputs": [
    {
     "data": {
      "text/plain": [
       "(95575, 3)"
      ]
     },
     "metadata": {},
     "output_type": "display_data"
    },
    {
     "data": {
      "text/plain": [
       "(31858, 3)"
      ]
     },
     "metadata": {},
     "output_type": "display_data"
    },
    {
     "data": {
      "text/plain": [
       "(31859, 3)"
      ]
     },
     "execution_count": 5,
     "metadata": {},
     "output_type": "execute_result"
    }
   ],
   "source": [
    "#разделю таблицу \n",
    "data_train, data_temporary = train_test_split(data, test_size=0.4)\n",
    "data_valid, data_test = train_test_split(data_temporary, test_size=0.5)\n",
    "#проверяю\n",
    "display(data_train.shape)\n",
    "display(data_valid.shape)\n",
    "data_test.shape"
   ]
  },
  {
   "cell_type": "code",
   "execution_count": 6,
   "metadata": {},
   "outputs": [
    {
     "name": "stderr",
     "output_type": "stream",
     "text": [
      "[nltk_data] Downloading package averaged_perceptron_tagger to\n",
      "[nltk_data]     /Users/kostyatrufanov/nltk_data...\n",
      "[nltk_data]   Unzipping taggers/averaged_perceptron_tagger.zip.\n"
     ]
    }
   ],
   "source": [
    "#создам функцию для очистки и лемматизации \n",
    "from nltk.corpus import wordnet\n",
    "nltk.download('averaged_perceptron_tagger')\n",
    "\n",
    "def get_wordnet_pos(word):\n",
    "    tag = nltk.pos_tag([word])[0][1][0].upper()\n",
    "    tag_dict = {\"J\": wordnet.ADJ,\n",
    "                \"N\": wordnet.NOUN,\n",
    "                \"V\": wordnet.VERB,\n",
    "                \"R\": wordnet.ADV}\n",
    "    return tag_dict.get(tag, wordnet.NOUN)\n",
    "\n",
    "def lemmatize(corpus):\n",
    "    m = WordNetLemmatizer()\n",
    "    lemm_text = ' '.join(m.lemmatize(w, get_wordnet_pos(w)) for w in nltk.word_tokenize(corpus))\n",
    "    return lemm_text\n",
    "\n",
    "def clear_text(corpus):\n",
    "    lemm_clear = re.sub(r'[^a-zA-Z]', ' ', corpus)\n",
    "    lemm_clear = lemm_clear.split()\n",
    "    lemm_clear = ' '.join(lemm_clear)\n",
    "    return lemm_clear"
   ]
  },
  {
   "cell_type": "code",
   "execution_count": 13,
   "metadata": {},
   "outputs": [
    {
     "name": "stderr",
     "output_type": "stream",
     "text": [
      "[nltk_data] Downloading package punkt_tab to\n",
      "[nltk_data]     /Users/kostyatrufanov/nltk_data...\n",
      "[nltk_data]   Package punkt_tab is already up-to-date!\n",
      "[nltk_data] Downloading package averaged_perceptron_tagger_eng to\n",
      "[nltk_data]     /Users/kostyatrufanov/nltk_data...\n",
      "[nltk_data]   Package averaged_perceptron_tagger_eng is already up-to-\n",
      "[nltk_data]       date!\n",
      "[nltk_data] Downloading package wordnet to\n",
      "[nltk_data]     /Users/kostyatrufanov/nltk_data...\n"
     ]
    },
    {
     "data": {
      "text/plain": [
       "True"
      ]
     },
     "execution_count": 13,
     "metadata": {},
     "output_type": "execute_result"
    }
   ],
   "source": [
    "import nltk\n",
    "nltk.download('punkt_tab')\n",
    "nltk.download('averaged_perceptron_tagger_eng')\n",
    "nltk.download('wordnet')"
   ]
  },
  {
   "cell_type": "code",
   "execution_count": 7,
   "metadata": {},
   "outputs": [],
   "source": [
    "#очищаю обучащую выборку\n",
    "data_train['text'] = data_train['text'].apply(clear_text)"
   ]
  },
  {
   "cell_type": "code",
   "execution_count": 14,
   "metadata": {},
   "outputs": [],
   "source": [
    "#лемматизирую обучающую выборку \n",
    "data_train['lemm_text'] = data_train['text'].apply(lemmatize)"
   ]
  },
  {
   "cell_type": "code",
   "execution_count": 15,
   "metadata": {},
   "outputs": [
    {
     "data": {
      "text/html": [
       "<div>\n",
       "<style scoped>\n",
       "    .dataframe tbody tr th:only-of-type {\n",
       "        vertical-align: middle;\n",
       "    }\n",
       "\n",
       "    .dataframe tbody tr th {\n",
       "        vertical-align: top;\n",
       "    }\n",
       "\n",
       "    .dataframe thead th {\n",
       "        text-align: right;\n",
       "    }\n",
       "</style>\n",
       "<table border=\"1\" class=\"dataframe\">\n",
       "  <thead>\n",
       "    <tr style=\"text-align: right;\">\n",
       "      <th></th>\n",
       "      <th>number</th>\n",
       "      <th>text</th>\n",
       "      <th>toxic</th>\n",
       "      <th>lemm_text</th>\n",
       "    </tr>\n",
       "  </thead>\n",
       "  <tbody>\n",
       "    <tr>\n",
       "      <th>112234</th>\n",
       "      <td>112331</td>\n",
       "      <td>October Please stop your disruptive editing If...</td>\n",
       "      <td>0</td>\n",
       "      <td>October Please stop your disruptive edit If yo...</td>\n",
       "    </tr>\n",
       "    <tr>\n",
       "      <th>53212</th>\n",
       "      <td>53273</td>\n",
       "      <td>I think this addition adequately explains oppo...</td>\n",
       "      <td>0</td>\n",
       "      <td>I think this addition adequately explains oppo...</td>\n",
       "    </tr>\n",
       "    <tr>\n",
       "      <th>69405</th>\n",
       "      <td>69473</td>\n",
       "      <td>I ve corrected the climate records for the cha...</td>\n",
       "      <td>0</td>\n",
       "      <td>I ve correct the climate record for the chart ...</td>\n",
       "    </tr>\n",
       "    <tr>\n",
       "      <th>145093</th>\n",
       "      <td>145249</td>\n",
       "      <td>Low quality and uninformative This article is ...</td>\n",
       "      <td>0</td>\n",
       "      <td>Low quality and uninformative This article be ...</td>\n",
       "    </tr>\n",
       "    <tr>\n",
       "      <th>56205</th>\n",
       "      <td>56266</td>\n",
       "      <td>Series episode</td>\n",
       "      <td>0</td>\n",
       "      <td>Series episode</td>\n",
       "    </tr>\n",
       "  </tbody>\n",
       "</table>\n",
       "</div>"
      ],
      "text/plain": [
       "        number                                               text  toxic  \\\n",
       "112234  112331  October Please stop your disruptive editing If...      0   \n",
       "53212    53273  I think this addition adequately explains oppo...      0   \n",
       "69405    69473  I ve corrected the climate records for the cha...      0   \n",
       "145093  145249  Low quality and uninformative This article is ...      0   \n",
       "56205    56266                                     Series episode      0   \n",
       "\n",
       "                                                lemm_text  \n",
       "112234  October Please stop your disruptive edit If yo...  \n",
       "53212   I think this addition adequately explains oppo...  \n",
       "69405   I ve correct the climate record for the chart ...  \n",
       "145093  Low quality and uninformative This article be ...  \n",
       "56205                                      Series episode  "
      ]
     },
     "execution_count": 15,
     "metadata": {},
     "output_type": "execute_result"
    }
   ],
   "source": [
    "data_train.head()"
   ]
  },
  {
   "cell_type": "code",
   "execution_count": 16,
   "metadata": {},
   "outputs": [],
   "source": [
    "#очищаю валидационную выборку\n",
    "data_valid['text'] = data_valid['text'].apply(clear_text)\n",
    "#лемматизирую валидационную выборку \n",
    "data_valid['lemm_text'] = data_valid['text'].apply(lemmatize)"
   ]
  },
  {
   "cell_type": "code",
   "execution_count": 17,
   "metadata": {},
   "outputs": [],
   "source": [
    "#очищаю тестовую выборку\n",
    "data_test['text'] = data_test['text'].apply(clear_text)\n",
    "#лемматизирую тестовую выборку \n",
    "data_test['lemm_text'] = data_test['text'].apply(lemmatize)"
   ]
  },
  {
   "cell_type": "code",
   "execution_count": 21,
   "metadata": {},
   "outputs": [
    {
     "name": "stderr",
     "output_type": "stream",
     "text": [
      "[nltk_data] Downloading package stopwords to\n",
      "[nltk_data]     /Users/kostyatrufanov/nltk_data...\n",
      "[nltk_data]   Package stopwords is already up-to-date!\n"
     ]
    }
   ],
   "source": [
    "#загрузжаю список стоп-слов в английском языке \n",
    "nltk.download('stopwords')\n",
    "stop_words = stopwords.words('english')"
   ]
  },
  {
   "cell_type": "code",
   "execution_count": 22,
   "metadata": {},
   "outputs": [],
   "source": [
    "#создаю счетчик\n",
    "tfidf = TfidfVectorizer(stop_words=stop_words)"
   ]
  },
  {
   "cell_type": "code",
   "execution_count": 23,
   "metadata": {},
   "outputs": [],
   "source": [
    "#превращаю слова в векторы, чтобы можно было обучить и предсказать\n",
    "features_train = tfidf.fit_transform(data_train['lemm_text'])\n",
    "features_valid = tfidf.transform(data_valid['lemm_text'])\n",
    "features_test = tfidf.transform(data_test['lemm_text'])"
   ]
  },
  {
   "cell_type": "code",
   "execution_count": 24,
   "metadata": {},
   "outputs": [],
   "source": [
    "#отделяю целевой признак от датафреймов\n",
    "target_train = data_train['toxic']\n",
    "target_valid = data_valid['toxic']\n",
    "target_test = data_test['toxic']"
   ]
  },
  {
   "cell_type": "code",
   "execution_count": 25,
   "metadata": {},
   "outputs": [
    {
     "data": {
      "text/plain": [
       "(95575, 117736)"
      ]
     },
     "metadata": {},
     "output_type": "display_data"
    },
    {
     "data": {
      "text/plain": [
       "(95575,)"
      ]
     },
     "metadata": {},
     "output_type": "display_data"
    },
    {
     "data": {
      "text/plain": [
       "(31858, 117736)"
      ]
     },
     "metadata": {},
     "output_type": "display_data"
    },
    {
     "data": {
      "text/plain": [
       "(31858,)"
      ]
     },
     "metadata": {},
     "output_type": "display_data"
    },
    {
     "data": {
      "text/plain": [
       "(31859, 117736)"
      ]
     },
     "metadata": {},
     "output_type": "display_data"
    },
    {
     "data": {
      "text/plain": [
       "(31859,)"
      ]
     },
     "execution_count": 25,
     "metadata": {},
     "output_type": "execute_result"
    }
   ],
   "source": [
    "#проверяю\n",
    "display(features_train.shape)\n",
    "display(target_train.shape)\n",
    "\n",
    "display(features_valid.shape)\n",
    "display(target_valid.shape)\n",
    "\n",
    "display(features_test.shape)\n",
    "target_test.shape"
   ]
  },
  {
   "cell_type": "markdown",
   "metadata": {},
   "source": [
    "### Вывод: Загрузил датафрейм, поменял названия признаков. Затем разделил основную выборку на три, потом каждую преобразовал в векторы, убрав лишние слова "
   ]
  },
  {
   "cell_type": "markdown",
   "metadata": {},
   "source": [
    "## Обучение"
   ]
  },
  {
   "cell_type": "markdown",
   "metadata": {},
   "source": [
    "**Начну с Логистической регрессии**"
   ]
  },
  {
   "cell_type": "code",
   "execution_count": 26,
   "metadata": {},
   "outputs": [
    {
     "data": {
      "text/plain": [
       "{'C': 13, 'max_iter': 200, 'penalty': 'l2', 'random_state': 12345}"
      ]
     },
     "execution_count": 26,
     "metadata": {},
     "output_type": "execute_result"
    }
   ],
   "source": [
    "grid_space = {'random_state':[12345],\n",
    "             'max_iter':[200],\n",
    "             'penalty' : ['l2'],\n",
    "             'C':[1, 4, 7, 10, 13, 15]}\n",
    "#создаю модель\n",
    "model = LogisticRegression()\n",
    "grid = GridSearchCV(model, param_grid=grid_space, cv=3, error_score='raise')\n",
    "model_grid = grid.fit(features_train, target_train)\n",
    "#сохраняю наилучшии параметры\n",
    "best_parametrs = model_grid.best_params_\n",
    "best_parametrs"
   ]
  },
  {
   "cell_type": "code",
   "execution_count": 27,
   "metadata": {},
   "outputs": [
    {
     "data": {
      "text/plain": [
       "0.7667069590744259"
      ]
     },
     "execution_count": 27,
     "metadata": {},
     "output_type": "execute_result"
    }
   ],
   "source": [
    "#считаю f1 на валид. выборке\n",
    "model = LogisticRegression(random_state=12345, C = 10, penalty = 'l2', solver='liblinear', max_iter=200)\n",
    "model.fit(features_train, target_train)\n",
    "predict = model.predict(features_valid)\n",
    "f1_score(target_valid, predict)"
   ]
  },
  {
   "cell_type": "markdown",
   "metadata": {},
   "source": [
    "**Теперь catboost**"
   ]
  },
  {
   "cell_type": "code",
   "execution_count": 28,
   "metadata": {},
   "outputs": [
    {
     "name": "stdout",
     "output_type": "stream",
     "text": [
      "0:\tlearn: 0.5946782\ttotal: 217ms\tremaining: 21.4s\n",
      "50:\tlearn: 0.1911836\ttotal: 5.64s\tremaining: 5.42s\n",
      "99:\tlearn: 0.1683203\ttotal: 11s\tremaining: 0us\n",
      "0:\tlearn: 0.5974153\ttotal: 119ms\tremaining: 11.8s\n",
      "50:\tlearn: 0.1899543\ttotal: 5.42s\tremaining: 5.2s\n",
      "99:\tlearn: 0.1675183\ttotal: 10.5s\tremaining: 0us\n",
      "0:\tlearn: 0.5944308\ttotal: 134ms\tremaining: 13.3s\n",
      "50:\tlearn: 0.1916346\ttotal: 5.42s\tremaining: 5.21s\n",
      "99:\tlearn: 0.1690202\ttotal: 10.5s\tremaining: 0us\n",
      "0:\tlearn: 0.5118422\ttotal: 119ms\tremaining: 11.7s\n",
      "50:\tlearn: 0.1660226\ttotal: 5.41s\tremaining: 5.2s\n",
      "99:\tlearn: 0.1428275\ttotal: 10.5s\tremaining: 0us\n",
      "0:\tlearn: 0.5166923\ttotal: 123ms\tremaining: 12.2s\n",
      "50:\tlearn: 0.1656911\ttotal: 5.42s\tremaining: 5.21s\n",
      "99:\tlearn: 0.1422904\ttotal: 10.6s\tremaining: 0us\n",
      "0:\tlearn: 0.5115204\ttotal: 122ms\tremaining: 12.1s\n",
      "50:\tlearn: 0.1663767\ttotal: 5.39s\tremaining: 5.18s\n",
      "99:\tlearn: 0.1432882\ttotal: 10.6s\tremaining: 0us\n",
      "0:\tlearn: 0.4437425\ttotal: 119ms\tremaining: 11.8s\n",
      "50:\tlearn: 0.1511326\ttotal: 5.33s\tremaining: 5.12s\n",
      "99:\tlearn: 0.1291171\ttotal: 10.4s\tremaining: 0us\n",
      "0:\tlearn: 0.4501544\ttotal: 117ms\tremaining: 11.5s\n",
      "50:\tlearn: 0.1504982\ttotal: 5.36s\tremaining: 5.15s\n",
      "99:\tlearn: 0.1287578\ttotal: 10.5s\tremaining: 0us\n",
      "0:\tlearn: 0.4434782\ttotal: 119ms\tremaining: 11.8s\n",
      "50:\tlearn: 0.1515422\ttotal: 5.41s\tremaining: 5.2s\n",
      "99:\tlearn: 0.1303054\ttotal: 10.5s\tremaining: 0us\n",
      "0:\tlearn: 0.3892568\ttotal: 118ms\tremaining: 11.6s\n",
      "50:\tlearn: 0.1398401\ttotal: 5.37s\tremaining: 5.16s\n",
      "99:\tlearn: 0.1198669\ttotal: 10.5s\tremaining: 0us\n",
      "0:\tlearn: 0.3967487\ttotal: 116ms\tremaining: 11.5s\n",
      "50:\tlearn: 0.1402256\ttotal: 5.35s\tremaining: 5.14s\n",
      "99:\tlearn: 0.1198793\ttotal: 10.5s\tremaining: 0us\n",
      "0:\tlearn: 0.3891232\ttotal: 120ms\tremaining: 11.8s\n",
      "50:\tlearn: 0.1417926\ttotal: 5.37s\tremaining: 5.16s\n",
      "99:\tlearn: 0.1206949\ttotal: 10.5s\tremaining: 0us\n",
      "0:\tlearn: 0.3470527\ttotal: 118ms\tremaining: 11.7s\n",
      "50:\tlearn: 0.1334356\ttotal: 5.32s\tremaining: 5.11s\n",
      "99:\tlearn: 0.1132617\ttotal: 10.4s\tremaining: 0us\n",
      "0:\tlearn: 0.3552394\ttotal: 117ms\tremaining: 11.5s\n",
      "50:\tlearn: 0.1334725\ttotal: 5.38s\tremaining: 5.17s\n",
      "99:\tlearn: 0.1128927\ttotal: 10.5s\tremaining: 0us\n",
      "0:\tlearn: 0.3470739\ttotal: 119ms\tremaining: 11.8s\n",
      "50:\tlearn: 0.1348814\ttotal: 5.4s\tremaining: 5.18s\n",
      "99:\tlearn: 0.1140191\ttotal: 10.5s\tremaining: 0us\n",
      "0:\tlearn: 0.5946782\ttotal: 117ms\tremaining: 23.4s\n",
      "50:\tlearn: 0.1911836\ttotal: 5.38s\tremaining: 15.7s\n",
      "100:\tlearn: 0.1678962\ttotal: 10.6s\tremaining: 10.4s\n",
      "150:\tlearn: 0.1533857\ttotal: 15.8s\tremaining: 5.14s\n",
      "199:\tlearn: 0.1435626\ttotal: 20.9s\tremaining: 0us\n",
      "0:\tlearn: 0.5974153\ttotal: 120ms\tremaining: 23.9s\n",
      "50:\tlearn: 0.1899543\ttotal: 5.41s\tremaining: 15.8s\n",
      "100:\tlearn: 0.1672090\ttotal: 10.6s\tremaining: 10.4s\n",
      "150:\tlearn: 0.1528469\ttotal: 15.9s\tremaining: 5.16s\n",
      "199:\tlearn: 0.1435423\ttotal: 21s\tremaining: 0us\n",
      "0:\tlearn: 0.5944308\ttotal: 121ms\tremaining: 24s\n",
      "50:\tlearn: 0.1916346\ttotal: 5.41s\tremaining: 15.8s\n",
      "100:\tlearn: 0.1687434\ttotal: 10.7s\tremaining: 10.5s\n",
      "150:\tlearn: 0.1542893\ttotal: 15.9s\tremaining: 5.17s\n",
      "199:\tlearn: 0.1448832\ttotal: 21.1s\tremaining: 0us\n",
      "0:\tlearn: 0.5118422\ttotal: 117ms\tremaining: 23.3s\n",
      "50:\tlearn: 0.1660226\ttotal: 5.4s\tremaining: 15.8s\n",
      "100:\tlearn: 0.1425929\ttotal: 10.6s\tremaining: 10.4s\n",
      "150:\tlearn: 0.1295362\ttotal: 15.8s\tremaining: 5.12s\n",
      "199:\tlearn: 0.1212242\ttotal: 20.9s\tremaining: 0us\n",
      "0:\tlearn: 0.5166923\ttotal: 118ms\tremaining: 23.5s\n",
      "50:\tlearn: 0.1656911\ttotal: 5.37s\tremaining: 15.7s\n",
      "100:\tlearn: 0.1421055\ttotal: 10.6s\tremaining: 10.4s\n",
      "150:\tlearn: 0.1297435\ttotal: 15.8s\tremaining: 5.14s\n",
      "199:\tlearn: 0.1208787\ttotal: 20.9s\tremaining: 0us\n",
      "0:\tlearn: 0.5115204\ttotal: 122ms\tremaining: 24.2s\n",
      "50:\tlearn: 0.1663767\ttotal: 5.47s\tremaining: 16s\n",
      "100:\tlearn: 0.1430511\ttotal: 10.7s\tremaining: 10.5s\n",
      "150:\tlearn: 0.1297917\ttotal: 15.9s\tremaining: 5.16s\n",
      "199:\tlearn: 0.1216332\ttotal: 21.1s\tremaining: 0us\n",
      "0:\tlearn: 0.4437425\ttotal: 123ms\tremaining: 24.4s\n",
      "50:\tlearn: 0.1511326\ttotal: 5.34s\tremaining: 15.6s\n",
      "100:\tlearn: 0.1287211\ttotal: 10.6s\tremaining: 10.4s\n",
      "150:\tlearn: 0.1164270\ttotal: 15.8s\tremaining: 5.12s\n",
      "199:\tlearn: 0.1075912\ttotal: 20.9s\tremaining: 0us\n",
      "0:\tlearn: 0.4501544\ttotal: 117ms\tremaining: 23.2s\n",
      "50:\tlearn: 0.1504982\ttotal: 5.42s\tremaining: 15.8s\n",
      "100:\tlearn: 0.1281642\ttotal: 10.6s\tremaining: 10.4s\n",
      "150:\tlearn: 0.1163706\ttotal: 15.8s\tremaining: 5.14s\n",
      "199:\tlearn: 0.1076138\ttotal: 21.2s\tremaining: 0us\n",
      "0:\tlearn: 0.4434782\ttotal: 119ms\tremaining: 23.6s\n",
      "50:\tlearn: 0.1515422\ttotal: 5.38s\tremaining: 15.7s\n",
      "100:\tlearn: 0.1298194\ttotal: 10.6s\tremaining: 10.4s\n",
      "150:\tlearn: 0.1170575\ttotal: 15.9s\tremaining: 5.15s\n",
      "199:\tlearn: 0.1073783\ttotal: 21s\tremaining: 0us\n",
      "0:\tlearn: 0.3892568\ttotal: 118ms\tremaining: 23.4s\n",
      "50:\tlearn: 0.1398401\ttotal: 5.41s\tremaining: 15.8s\n",
      "100:\tlearn: 0.1196797\ttotal: 10.6s\tremaining: 10.4s\n",
      "150:\tlearn: 0.1083166\ttotal: 15.8s\tremaining: 5.13s\n",
      "199:\tlearn: 0.0983919\ttotal: 21s\tremaining: 0us\n",
      "0:\tlearn: 0.3967487\ttotal: 117ms\tremaining: 23.3s\n",
      "50:\tlearn: 0.1402256\ttotal: 5.39s\tremaining: 15.7s\n",
      "100:\tlearn: 0.1197110\ttotal: 10.8s\tremaining: 10.6s\n",
      "150:\tlearn: 0.1063719\ttotal: 16.2s\tremaining: 5.26s\n",
      "199:\tlearn: 0.0968276\ttotal: 21.4s\tremaining: 0us\n",
      "0:\tlearn: 0.3891232\ttotal: 121ms\tremaining: 24s\n",
      "50:\tlearn: 0.1417926\ttotal: 5.52s\tremaining: 16.1s\n",
      "100:\tlearn: 0.1205138\ttotal: 10.9s\tremaining: 10.7s\n",
      "150:\tlearn: 0.1080262\ttotal: 16.3s\tremaining: 5.28s\n",
      "199:\tlearn: 0.0980048\ttotal: 21.5s\tremaining: 0us\n",
      "0:\tlearn: 0.3470527\ttotal: 118ms\tremaining: 23.5s\n",
      "50:\tlearn: 0.1334356\ttotal: 5.33s\tremaining: 15.6s\n",
      "100:\tlearn: 0.1130190\ttotal: 10.5s\tremaining: 10.3s\n",
      "150:\tlearn: 0.0991824\ttotal: 15.8s\tremaining: 5.11s\n",
      "199:\tlearn: 0.0902641\ttotal: 20.8s\tremaining: 0us\n",
      "0:\tlearn: 0.3552394\ttotal: 118ms\tremaining: 23.6s\n",
      "50:\tlearn: 0.1334725\ttotal: 5.37s\tremaining: 15.7s\n",
      "100:\tlearn: 0.1127041\ttotal: 10.6s\tremaining: 10.4s\n",
      "150:\tlearn: 0.0993615\ttotal: 15.9s\tremaining: 5.17s\n",
      "199:\tlearn: 0.0901210\ttotal: 21s\tremaining: 0us\n",
      "0:\tlearn: 0.3470739\ttotal: 119ms\tremaining: 23.7s\n",
      "50:\tlearn: 0.1348814\ttotal: 5.35s\tremaining: 15.6s\n",
      "100:\tlearn: 0.1138440\ttotal: 10.6s\tremaining: 10.4s\n",
      "150:\tlearn: 0.0996963\ttotal: 15.9s\tremaining: 5.15s\n",
      "199:\tlearn: 0.0914452\ttotal: 21s\tremaining: 0us\n",
      "0:\tlearn: 0.5946782\ttotal: 118ms\tremaining: 35.2s\n",
      "50:\tlearn: 0.1911836\ttotal: 5.38s\tremaining: 26.2s\n",
      "100:\tlearn: 0.1678962\ttotal: 10.7s\tremaining: 21s\n",
      "150:\tlearn: 0.1533857\ttotal: 15.9s\tremaining: 15.7s\n",
      "200:\tlearn: 0.1433787\ttotal: 21.1s\tremaining: 10.4s\n",
      "250:\tlearn: 0.1360367\ttotal: 26.3s\tremaining: 5.14s\n",
      "299:\tlearn: 0.1303419\ttotal: 31.4s\tremaining: 0us\n",
      "0:\tlearn: 0.5974153\ttotal: 124ms\tremaining: 36.9s\n",
      "50:\tlearn: 0.1899543\ttotal: 5.61s\tremaining: 27.4s\n",
      "100:\tlearn: 0.1672090\ttotal: 11s\tremaining: 21.6s\n",
      "150:\tlearn: 0.1528469\ttotal: 16.3s\tremaining: 16.1s\n",
      "200:\tlearn: 0.1433156\ttotal: 21.7s\tremaining: 10.7s\n",
      "250:\tlearn: 0.1356964\ttotal: 27.1s\tremaining: 5.29s\n",
      "299:\tlearn: 0.1300580\ttotal: 32.2s\tremaining: 0us\n",
      "0:\tlearn: 0.5944308\ttotal: 126ms\tremaining: 37.6s\n",
      "50:\tlearn: 0.1916346\ttotal: 5.47s\tremaining: 26.7s\n",
      "100:\tlearn: 0.1687434\ttotal: 10.7s\tremaining: 21.1s\n",
      "150:\tlearn: 0.1542893\ttotal: 15.9s\tremaining: 15.7s\n",
      "200:\tlearn: 0.1446323\ttotal: 21.2s\tremaining: 10.4s\n",
      "250:\tlearn: 0.1371556\ttotal: 26.4s\tremaining: 5.15s\n",
      "299:\tlearn: 0.1309070\ttotal: 31.5s\tremaining: 0us\n",
      "0:\tlearn: 0.5118422\ttotal: 118ms\tremaining: 35.3s\n",
      "50:\tlearn: 0.1660226\ttotal: 5.36s\tremaining: 26.2s\n",
      "100:\tlearn: 0.1425929\ttotal: 10.6s\tremaining: 20.8s\n",
      "150:\tlearn: 0.1295362\ttotal: 15.8s\tremaining: 15.6s\n",
      "200:\tlearn: 0.1210697\ttotal: 21s\tremaining: 10.3s\n",
      "250:\tlearn: 0.1138576\ttotal: 26.2s\tremaining: 5.11s\n",
      "299:\tlearn: 0.1079355\ttotal: 31.3s\tremaining: 0us\n",
      "0:\tlearn: 0.5166923\ttotal: 118ms\tremaining: 35.4s\n",
      "50:\tlearn: 0.1656911\ttotal: 5.37s\tremaining: 26.2s\n",
      "100:\tlearn: 0.1421055\ttotal: 10.6s\tremaining: 20.9s\n",
      "150:\tlearn: 0.1297435\ttotal: 15.9s\tremaining: 15.6s\n",
      "200:\tlearn: 0.1206651\ttotal: 21.2s\tremaining: 10.5s\n",
      "250:\tlearn: 0.1136452\ttotal: 26.6s\tremaining: 5.19s\n",
      "299:\tlearn: 0.1075411\ttotal: 31.8s\tremaining: 0us\n",
      "0:\tlearn: 0.5115204\ttotal: 120ms\tremaining: 35.9s\n",
      "50:\tlearn: 0.1663767\ttotal: 5.38s\tremaining: 26.3s\n",
      "100:\tlearn: 0.1430511\ttotal: 10.6s\tremaining: 20.9s\n",
      "150:\tlearn: 0.1297917\ttotal: 15.8s\tremaining: 15.6s\n",
      "200:\tlearn: 0.1214404\ttotal: 21.1s\tremaining: 10.4s\n",
      "250:\tlearn: 0.1142853\ttotal: 26.3s\tremaining: 5.13s\n",
      "299:\tlearn: 0.1081621\ttotal: 31.4s\tremaining: 0us\n",
      "0:\tlearn: 0.4437425\ttotal: 118ms\tremaining: 35.2s\n",
      "50:\tlearn: 0.1511326\ttotal: 5.34s\tremaining: 26.1s\n",
      "100:\tlearn: 0.1287211\ttotal: 10.6s\tremaining: 20.8s\n",
      "150:\tlearn: 0.1164270\ttotal: 15.8s\tremaining: 15.6s\n",
      "200:\tlearn: 0.1073196\ttotal: 21s\tremaining: 10.3s\n",
      "250:\tlearn: 0.0998073\ttotal: 26.2s\tremaining: 5.11s\n",
      "299:\tlearn: 0.0952278\ttotal: 31.3s\tremaining: 0us\n",
      "0:\tlearn: 0.4501544\ttotal: 117ms\tremaining: 34.9s\n",
      "50:\tlearn: 0.1504982\ttotal: 5.35s\tremaining: 26.1s\n",
      "100:\tlearn: 0.1281642\ttotal: 10.6s\tremaining: 20.9s\n",
      "150:\tlearn: 0.1163706\ttotal: 15.8s\tremaining: 15.6s\n",
      "200:\tlearn: 0.1075151\ttotal: 21s\tremaining: 10.3s\n",
      "250:\tlearn: 0.0996343\ttotal: 26.3s\tremaining: 5.13s\n",
      "299:\tlearn: 0.0938762\ttotal: 31.4s\tremaining: 0us\n",
      "0:\tlearn: 0.4434782\ttotal: 121ms\tremaining: 36.1s\n",
      "50:\tlearn: 0.1515422\ttotal: 5.37s\tremaining: 26.2s\n",
      "100:\tlearn: 0.1298194\ttotal: 10.6s\tremaining: 20.9s\n",
      "150:\tlearn: 0.1170575\ttotal: 16s\tremaining: 15.8s\n",
      "200:\tlearn: 0.1070933\ttotal: 21.2s\tremaining: 10.5s\n",
      "250:\tlearn: 0.0995461\ttotal: 26.5s\tremaining: 5.18s\n",
      "299:\tlearn: 0.0949158\ttotal: 31.6s\tremaining: 0us\n",
      "0:\tlearn: 0.3892568\ttotal: 119ms\tremaining: 35.6s\n",
      "50:\tlearn: 0.1398401\ttotal: 5.39s\tremaining: 26.3s\n",
      "100:\tlearn: 0.1196797\ttotal: 10.6s\tremaining: 20.8s\n",
      "150:\tlearn: 0.1083166\ttotal: 15.8s\tremaining: 15.5s\n",
      "200:\tlearn: 0.0981115\ttotal: 21s\tremaining: 10.4s\n",
      "250:\tlearn: 0.0909972\ttotal: 26.2s\tremaining: 5.12s\n",
      "299:\tlearn: 0.0863067\ttotal: 31.3s\tremaining: 0us\n",
      "0:\tlearn: 0.3967487\ttotal: 119ms\tremaining: 35.5s\n",
      "50:\tlearn: 0.1402256\ttotal: 5.42s\tremaining: 26.4s\n",
      "100:\tlearn: 0.1197110\ttotal: 10.6s\tremaining: 20.9s\n",
      "150:\tlearn: 0.1063719\ttotal: 15.8s\tremaining: 15.6s\n",
      "200:\tlearn: 0.0967239\ttotal: 21.1s\tremaining: 10.4s\n",
      "250:\tlearn: 0.0900915\ttotal: 26.3s\tremaining: 5.14s\n",
      "299:\tlearn: 0.0854359\ttotal: 31.4s\tremaining: 0us\n",
      "0:\tlearn: 0.3891232\ttotal: 128ms\tremaining: 38.3s\n",
      "50:\tlearn: 0.1417926\ttotal: 5.41s\tremaining: 26.4s\n",
      "100:\tlearn: 0.1205138\ttotal: 10.6s\tremaining: 20.9s\n",
      "150:\tlearn: 0.1080262\ttotal: 15.8s\tremaining: 15.6s\n",
      "200:\tlearn: 0.0979060\ttotal: 21.1s\tremaining: 10.4s\n",
      "250:\tlearn: 0.0912523\ttotal: 26.3s\tremaining: 5.14s\n",
      "299:\tlearn: 0.0862414\ttotal: 31.4s\tremaining: 0us\n",
      "0:\tlearn: 0.3470527\ttotal: 119ms\tremaining: 35.7s\n",
      "50:\tlearn: 0.1334356\ttotal: 5.35s\tremaining: 26.1s\n",
      "100:\tlearn: 0.1130190\ttotal: 10.5s\tremaining: 20.8s\n",
      "150:\tlearn: 0.0991824\ttotal: 15.8s\tremaining: 15.6s\n",
      "200:\tlearn: 0.0901508\ttotal: 21s\tremaining: 10.3s\n",
      "250:\tlearn: 0.0833395\ttotal: 26.1s\tremaining: 5.1s\n",
      "299:\tlearn: 0.0780212\ttotal: 31.2s\tremaining: 0us\n",
      "0:\tlearn: 0.3552394\ttotal: 117ms\tremaining: 35s\n",
      "50:\tlearn: 0.1334725\ttotal: 5.35s\tremaining: 26.1s\n",
      "100:\tlearn: 0.1127041\ttotal: 10.5s\tremaining: 20.8s\n",
      "150:\tlearn: 0.0993615\ttotal: 15.8s\tremaining: 15.6s\n",
      "200:\tlearn: 0.0900103\ttotal: 21s\tremaining: 10.3s\n",
      "250:\tlearn: 0.0838703\ttotal: 26.2s\tremaining: 5.12s\n",
      "299:\tlearn: 0.0784989\ttotal: 31.3s\tremaining: 0us\n",
      "0:\tlearn: 0.3470739\ttotal: 121ms\tremaining: 36.2s\n",
      "50:\tlearn: 0.1348814\ttotal: 5.36s\tremaining: 26.2s\n",
      "100:\tlearn: 0.1138440\ttotal: 10.6s\tremaining: 20.9s\n",
      "150:\tlearn: 0.0996963\ttotal: 15.9s\tremaining: 15.6s\n",
      "200:\tlearn: 0.0913322\ttotal: 21.1s\tremaining: 10.4s\n",
      "250:\tlearn: 0.0845196\ttotal: 26.3s\tremaining: 5.13s\n",
      "299:\tlearn: 0.0790713\ttotal: 31.4s\tremaining: 0us\n",
      "0:\tlearn: 0.3868009\ttotal: 162ms\tremaining: 48.6s\n",
      "50:\tlearn: 0.1425861\ttotal: 7.01s\tremaining: 34.2s\n",
      "100:\tlearn: 0.1230672\ttotal: 13.9s\tremaining: 27.3s\n",
      "150:\tlearn: 0.1128865\ttotal: 20.7s\tremaining: 20.4s\n",
      "200:\tlearn: 0.1034738\ttotal: 27.6s\tremaining: 13.6s\n",
      "250:\tlearn: 0.0964152\ttotal: 34.4s\tremaining: 6.71s\n",
      "299:\tlearn: 0.0918096\ttotal: 41s\tremaining: 0us\n"
     ]
    },
    {
     "data": {
      "text/plain": [
       "{'iterations': 300, 'learning_rate': 0.4, 'verbose': 50}"
      ]
     },
     "execution_count": 28,
     "metadata": {},
     "output_type": "execute_result"
    }
   ],
   "source": [
    "grid_space = {'iterations':[100, 200, 300], \n",
    "    'learning_rate':[0.1, 0.2, 0.3, 0.4, 0.5],\n",
    "    'verbose':[50]}\n",
    "#создаю модель\n",
    "model = CatBoostClassifier()\n",
    "grid = GridSearchCV(model, param_grid=grid_space, cv=3)\n",
    "model_grid = grid.fit(features_train, target_train)\n",
    "#сохраняю наилучшии параметры\n",
    "best_parametrs = model_grid.best_params_\n",
    "best_parametrs"
   ]
  },
  {
   "cell_type": "code",
   "execution_count": 29,
   "metadata": {},
   "outputs": [
    {
     "name": "stdout",
     "output_type": "stream",
     "text": [
      "0:\tlearn: 0.3868009\ttotal: 204ms\tremaining: 1m 1s\n",
      "50:\tlearn: 0.1425861\ttotal: 7.13s\tremaining: 34.8s\n",
      "100:\tlearn: 0.1230672\ttotal: 13.9s\tremaining: 27.4s\n",
      "150:\tlearn: 0.1128865\ttotal: 20.8s\tremaining: 20.5s\n",
      "200:\tlearn: 0.1034738\ttotal: 27.6s\tremaining: 13.6s\n",
      "250:\tlearn: 0.0964152\ttotal: 34.4s\tremaining: 6.71s\n",
      "299:\tlearn: 0.0918096\ttotal: 41.1s\tremaining: 0us\n"
     ]
    },
    {
     "data": {
      "text/plain": [
       "0.7548761201897733"
      ]
     },
     "execution_count": 29,
     "metadata": {},
     "output_type": "execute_result"
    }
   ],
   "source": [
    "#считаю f1 на валид. выборке\n",
    "model = CatBoostClassifier(iterations=300, learning_rate=0.4, verbose=50)\n",
    "model.fit(features_train, target_train)\n",
    "predict = model.predict(features_valid)\n",
    "f1_score(target_valid, predict)"
   ]
  },
  {
   "cell_type": "markdown",
   "metadata": {},
   "source": [
    "### Вывод: Логистическая регрессия справилась с задачей лучше чем catboost, так что предсказывать на тестовой выборке будет Логистическая регрессия"
   ]
  },
  {
   "cell_type": "markdown",
   "metadata": {},
   "source": [
    "## Выводы"
   ]
  },
  {
   "cell_type": "code",
   "execution_count": 30,
   "metadata": {},
   "outputs": [
    {
     "data": {
      "text/plain": [
       "0.7638764947349634"
      ]
     },
     "execution_count": 30,
     "metadata": {},
     "output_type": "execute_result"
    }
   ],
   "source": [
    "#считаю f1 на тестовой выборке\n",
    "model = LogisticRegression(random_state=12345, C = 10, penalty = 'l2', solver='liblinear', max_iter=200)\n",
    "model.fit(features_train, target_train)\n",
    "predict = model.predict(features_test)\n",
    "f1_score(target_test, predict)"
   ]
  },
  {
   "cell_type": "markdown",
   "metadata": {},
   "source": [
    "## Вывод: Загрузил данные, поменял названиия признаков, затем сделал три корпуса и каждый преобразовал в векторы. После этого проверил две модели, лучше оказалась Логистическая регрессия, и на тестовой выборке она показала результат в 0.77, что удовлетворяет запросу клиента "
   ]
  }
 ],
 "metadata": {
  "ExecuteTimeLog": [
   {
    "duration": 51,
    "start_time": "2023-10-12T13:10:08.865Z"
   },
   {
    "duration": 87,
    "start_time": "2023-10-12T13:10:12.322Z"
   },
   {
    "duration": 1250,
    "start_time": "2023-10-12T13:10:21.095Z"
   },
   {
    "duration": 188,
    "start_time": "2023-10-12T13:10:28.781Z"
   },
   {
    "duration": 94,
    "start_time": "2023-10-12T13:10:34.067Z"
   },
   {
    "duration": 3332,
    "start_time": "2023-10-12T13:11:01.368Z"
   },
   {
    "duration": 45,
    "start_time": "2023-10-12T13:13:08.753Z"
   },
   {
    "duration": 1310,
    "start_time": "2023-10-12T13:13:11.454Z"
   },
   {
    "duration": 3392,
    "start_time": "2023-10-12T13:13:14.959Z"
   },
   {
    "duration": 6,
    "start_time": "2023-10-12T13:13:22.301Z"
   },
   {
    "duration": 35,
    "start_time": "2023-10-12T13:13:31.218Z"
   },
   {
    "duration": 3,
    "start_time": "2023-10-12T13:14:38.544Z"
   },
   {
    "duration": 1471,
    "start_time": "2023-10-12T13:19:10.114Z"
   },
   {
    "duration": 3385,
    "start_time": "2023-10-12T13:19:16.645Z"
   },
   {
    "duration": 3,
    "start_time": "2023-10-12T13:19:22.568Z"
   },
   {
    "duration": 69,
    "start_time": "2023-10-12T13:21:59.040Z"
   },
   {
    "duration": 1329,
    "start_time": "2023-10-12T13:22:07.282Z"
   },
   {
    "duration": 3308,
    "start_time": "2023-10-12T13:22:10.207Z"
   },
   {
    "duration": 33,
    "start_time": "2023-10-12T13:22:18.793Z"
   },
   {
    "duration": 3,
    "start_time": "2023-10-12T13:22:23.208Z"
   },
   {
    "duration": 1263,
    "start_time": "2023-10-12T13:22:32.394Z"
   },
   {
    "duration": 3439,
    "start_time": "2023-10-12T13:22:34.881Z"
   },
   {
    "duration": 32,
    "start_time": "2023-10-12T13:22:38.322Z"
   },
   {
    "duration": 3,
    "start_time": "2023-10-12T13:22:39.006Z"
   },
   {
    "duration": 6,
    "start_time": "2023-10-12T13:23:12.153Z"
   },
   {
    "duration": 11,
    "start_time": "2023-10-12T13:23:15.008Z"
   },
   {
    "duration": 5,
    "start_time": "2023-10-12T13:23:26.786Z"
   },
   {
    "duration": 10,
    "start_time": "2023-10-12T13:23:27.340Z"
   },
   {
    "duration": 126,
    "start_time": "2023-10-12T13:23:49.749Z"
   },
   {
    "duration": 4,
    "start_time": "2023-10-12T13:23:55.825Z"
   },
   {
    "duration": 246,
    "start_time": "2023-10-12T13:23:56.462Z"
   },
   {
    "duration": 7,
    "start_time": "2023-10-12T13:24:00.546Z"
   },
   {
    "duration": 622,
    "start_time": "2023-10-12T13:24:00.866Z"
   },
   {
    "duration": 10,
    "start_time": "2023-10-12T13:24:07.441Z"
   },
   {
    "duration": 53,
    "start_time": "2023-10-12T13:24:14.118Z"
   },
   {
    "duration": 6,
    "start_time": "2023-10-12T13:24:14.420Z"
   },
   {
    "duration": 1346,
    "start_time": "2023-10-12T13:24:17.387Z"
   },
   {
    "duration": 3321,
    "start_time": "2023-10-12T13:24:22.037Z"
   },
   {
    "duration": 30,
    "start_time": "2023-10-12T13:24:28.840Z"
   },
   {
    "duration": 3,
    "start_time": "2023-10-12T13:24:31.863Z"
   },
   {
    "duration": 13,
    "start_time": "2023-10-12T13:24:34.205Z"
   },
   {
    "duration": 960,
    "start_time": "2023-10-12T13:24:34.841Z"
   },
   {
    "duration": 22,
    "start_time": "2023-10-12T13:27:08.169Z"
   },
   {
    "duration": 5,
    "start_time": "2023-10-12T13:29:44.124Z"
   },
   {
    "duration": 84,
    "start_time": "2023-10-12T13:30:28.237Z"
   },
   {
    "duration": 1352,
    "start_time": "2023-10-12T13:31:24.815Z"
   },
   {
    "duration": 3352,
    "start_time": "2023-10-12T13:31:26.751Z"
   },
   {
    "duration": 32,
    "start_time": "2023-10-12T13:31:30.105Z"
   },
   {
    "duration": 3,
    "start_time": "2023-10-12T13:31:33.725Z"
   },
   {
    "duration": 3,
    "start_time": "2023-10-12T13:31:45.974Z"
   },
   {
    "duration": 5,
    "start_time": "2023-10-12T13:31:49.020Z"
   },
   {
    "duration": 143,
    "start_time": "2023-10-12T13:31:52.447Z"
   },
   {
    "duration": 7,
    "start_time": "2023-10-12T13:34:48.368Z"
   },
   {
    "duration": 6485,
    "start_time": "2023-10-12T13:34:50.101Z"
   },
   {
    "duration": 21,
    "start_time": "2023-10-12T13:35:00.557Z"
   },
   {
    "duration": 3,
    "start_time": "2023-10-12T13:36:44.614Z"
   },
   {
    "duration": 92,
    "start_time": "2023-10-12T13:36:45.917Z"
   },
   {
    "duration": 4,
    "start_time": "2023-10-12T13:36:54.671Z"
   },
   {
    "duration": 5,
    "start_time": "2023-10-12T13:37:22.040Z"
   },
   {
    "duration": 74,
    "start_time": "2023-10-12T13:37:25.861Z"
   },
   {
    "duration": 6,
    "start_time": "2023-10-12T13:37:31.582Z"
   },
   {
    "duration": 76,
    "start_time": "2023-10-12T13:37:32.022Z"
   },
   {
    "duration": 11,
    "start_time": "2023-10-12T13:37:32.820Z"
   },
   {
    "duration": 4,
    "start_time": "2023-10-12T13:37:47.029Z"
   },
   {
    "duration": 60,
    "start_time": "2023-10-12T13:37:47.447Z"
   },
   {
    "duration": 12,
    "start_time": "2023-10-12T13:37:47.852Z"
   },
   {
    "duration": 4,
    "start_time": "2023-10-12T13:37:55.681Z"
   },
   {
    "duration": 64,
    "start_time": "2023-10-12T13:37:56.850Z"
   },
   {
    "duration": 12,
    "start_time": "2023-10-12T13:38:01.470Z"
   },
   {
    "duration": 2,
    "start_time": "2023-10-12T13:38:09.108Z"
   },
   {
    "duration": 864,
    "start_time": "2023-10-12T13:38:09.665Z"
   },
   {
    "duration": 31,
    "start_time": "2023-10-12T13:38:11.073Z"
   },
   {
    "duration": 3,
    "start_time": "2023-10-12T13:38:13.766Z"
   },
   {
    "duration": 12,
    "start_time": "2023-10-12T13:38:18.165Z"
   },
   {
    "duration": 4,
    "start_time": "2023-10-12T13:38:41.035Z"
   },
   {
    "duration": 1478,
    "start_time": "2023-10-12T13:39:13.732Z"
   },
   {
    "duration": 3422,
    "start_time": "2023-10-12T13:39:15.212Z"
   },
   {
    "duration": 28,
    "start_time": "2023-10-12T13:39:18.636Z"
   },
   {
    "duration": 13,
    "start_time": "2023-10-12T13:39:18.667Z"
   },
   {
    "duration": 27,
    "start_time": "2023-10-12T13:40:31.483Z"
   },
   {
    "duration": 12,
    "start_time": "2023-10-12T13:40:37.224Z"
   },
   {
    "duration": 1202,
    "start_time": "2023-10-12T13:41:20.985Z"
   },
   {
    "duration": 5,
    "start_time": "2023-10-12T13:41:26.774Z"
   },
   {
    "duration": 56,
    "start_time": "2023-10-12T13:42:02.735Z"
   },
   {
    "duration": 1392,
    "start_time": "2023-10-12T13:42:06.126Z"
   },
   {
    "duration": 3388,
    "start_time": "2023-10-12T13:42:07.520Z"
   },
   {
    "duration": 31,
    "start_time": "2023-10-12T13:42:10.910Z"
   },
   {
    "duration": 26,
    "start_time": "2023-10-12T13:42:10.943Z"
   },
   {
    "duration": 62,
    "start_time": "2023-10-12T13:42:10.971Z"
   },
   {
    "duration": 66,
    "start_time": "2023-10-12T13:42:24.161Z"
   },
   {
    "duration": 1281,
    "start_time": "2023-10-12T13:43:42.496Z"
   },
   {
    "duration": 3389,
    "start_time": "2023-10-12T13:43:43.780Z"
   },
   {
    "duration": 33,
    "start_time": "2023-10-12T13:43:47.171Z"
   },
   {
    "duration": 3,
    "start_time": "2023-10-12T13:43:47.205Z"
   },
   {
    "duration": 33,
    "start_time": "2023-10-12T13:43:47.210Z"
   },
   {
    "duration": 48,
    "start_time": "2023-10-12T13:49:38.807Z"
   },
   {
    "duration": 1389,
    "start_time": "2023-10-12T13:51:20.123Z"
   },
   {
    "duration": 3695,
    "start_time": "2023-10-12T13:51:21.514Z"
   },
   {
    "duration": 29,
    "start_time": "2023-10-12T13:51:25.210Z"
   },
   {
    "duration": 5,
    "start_time": "2023-10-12T13:51:25.241Z"
   },
   {
    "duration": 49,
    "start_time": "2023-10-12T13:51:25.248Z"
   },
   {
    "duration": 1324,
    "start_time": "2023-10-12T13:51:25.299Z"
   },
   {
    "duration": 417,
    "start_time": "2023-10-12T13:52:51.593Z"
   },
   {
    "duration": 1360,
    "start_time": "2023-10-12T13:53:57.358Z"
   },
   {
    "duration": 3457,
    "start_time": "2023-10-12T13:53:58.719Z"
   },
   {
    "duration": 35,
    "start_time": "2023-10-12T13:54:02.178Z"
   },
   {
    "duration": 57,
    "start_time": "2023-10-12T13:54:02.215Z"
   },
   {
    "duration": 148,
    "start_time": "2023-10-12T13:54:02.274Z"
   },
   {
    "duration": 1210,
    "start_time": "2023-10-12T13:54:07.220Z"
   },
   {
    "duration": 417,
    "start_time": "2023-10-12T13:54:41.686Z"
   },
   {
    "duration": 1303,
    "start_time": "2023-10-12T13:55:46.797Z"
   },
   {
    "duration": 3348,
    "start_time": "2023-10-12T13:55:48.102Z"
   },
   {
    "duration": 31,
    "start_time": "2023-10-12T13:55:54.408Z"
   },
   {
    "duration": 3,
    "start_time": "2023-10-12T13:55:54.961Z"
   },
   {
    "duration": 47,
    "start_time": "2023-10-12T13:55:56.721Z"
   },
   {
    "duration": 1224,
    "start_time": "2023-10-12T13:55:59.362Z"
   },
   {
    "duration": 4,
    "start_time": "2023-10-12T13:56:34.086Z"
   },
   {
    "duration": 859,
    "start_time": "2023-10-12T13:56:34.901Z"
   },
   {
    "duration": 26,
    "start_time": "2023-10-12T13:56:35.762Z"
   },
   {
    "duration": 13,
    "start_time": "2023-10-12T13:56:35.790Z"
   },
   {
    "duration": 55,
    "start_time": "2023-10-12T13:56:35.804Z"
   },
   {
    "duration": 1387,
    "start_time": "2023-10-12T13:56:42.073Z"
   },
   {
    "duration": 3508,
    "start_time": "2023-10-12T13:56:43.462Z"
   },
   {
    "duration": 32,
    "start_time": "2023-10-12T13:56:46.972Z"
   },
   {
    "duration": 8,
    "start_time": "2023-10-12T13:56:47.006Z"
   },
   {
    "duration": 53,
    "start_time": "2023-10-12T13:56:47.015Z"
   },
   {
    "duration": 1210,
    "start_time": "2023-10-12T13:56:47.070Z"
   },
   {
    "duration": 1386,
    "start_time": "2023-10-12T14:06:09.168Z"
   },
   {
    "duration": 3573,
    "start_time": "2023-10-12T14:06:11.738Z"
   },
   {
    "duration": 29,
    "start_time": "2023-10-12T14:06:15.313Z"
   },
   {
    "duration": 57,
    "start_time": "2023-10-12T14:06:15.344Z"
   },
   {
    "duration": 49,
    "start_time": "2023-10-12T14:06:15.403Z"
   },
   {
    "duration": 1223,
    "start_time": "2023-10-12T14:06:17.204Z"
   },
   {
    "duration": 391,
    "start_time": "2023-10-12T14:06:49.130Z"
   },
   {
    "duration": 3,
    "start_time": "2023-10-12T15:51:22.217Z"
   },
   {
    "duration": 61,
    "start_time": "2023-10-12T15:51:33.431Z"
   },
   {
    "duration": 2061,
    "start_time": "2023-10-12T15:51:36.068Z"
   },
   {
    "duration": 3489,
    "start_time": "2023-10-12T15:51:39.983Z"
   },
   {
    "duration": 42,
    "start_time": "2023-10-12T15:51:47.229Z"
   },
   {
    "duration": 3,
    "start_time": "2023-10-12T15:51:47.948Z"
   },
   {
    "duration": 38,
    "start_time": "2023-10-12T15:51:50.004Z"
   },
   {
    "duration": 1308,
    "start_time": "2023-10-12T15:51:55.737Z"
   },
   {
    "duration": 451,
    "start_time": "2023-10-12T15:51:59.041Z"
   },
   {
    "duration": 1983,
    "start_time": "2023-10-12T16:47:02.074Z"
   },
   {
    "duration": 3322,
    "start_time": "2023-10-12T16:47:06.669Z"
   },
   {
    "duration": 33,
    "start_time": "2023-10-12T16:47:09.993Z"
   },
   {
    "duration": 35,
    "start_time": "2023-10-12T16:47:10.028Z"
   },
   {
    "duration": 132,
    "start_time": "2023-10-12T16:47:10.065Z"
   },
   {
    "duration": 1246,
    "start_time": "2023-10-12T16:47:13.846Z"
   },
   {
    "duration": 391,
    "start_time": "2023-10-12T16:47:16.670Z"
   },
   {
    "duration": 45,
    "start_time": "2023-10-12T19:34:54.828Z"
   },
   {
    "duration": 1371,
    "start_time": "2023-11-07T11:31:39.968Z"
   },
   {
    "duration": 2565,
    "start_time": "2023-11-07T11:31:42.878Z"
   },
   {
    "duration": 38,
    "start_time": "2023-11-07T11:31:47.775Z"
   },
   {
    "duration": 3,
    "start_time": "2023-11-07T11:31:48.425Z"
   },
   {
    "duration": 45,
    "start_time": "2023-11-07T11:31:54.888Z"
   },
   {
    "duration": 1863,
    "start_time": "2023-11-07T11:31:56.279Z"
   },
   {
    "duration": 630,
    "start_time": "2023-11-07T11:31:59.784Z"
   },
   {
    "duration": 631,
    "start_time": "2023-11-07T11:32:02.322Z"
   },
   {
    "duration": 3,
    "start_time": "2023-11-07T11:43:20.170Z"
   },
   {
    "duration": 918,
    "start_time": "2023-11-07T11:43:20.809Z"
   },
   {
    "duration": 31,
    "start_time": "2023-11-07T11:43:22.522Z"
   },
   {
    "duration": 3,
    "start_time": "2023-11-07T11:43:24.889Z"
   },
   {
    "duration": 1330,
    "start_time": "2023-11-07T11:46:56.517Z"
   },
   {
    "duration": 2449,
    "start_time": "2023-11-07T11:46:58.618Z"
   },
   {
    "duration": 33,
    "start_time": "2023-11-07T11:47:01.069Z"
   },
   {
    "duration": 3,
    "start_time": "2023-11-07T11:47:04.326Z"
   },
   {
    "duration": 47,
    "start_time": "2023-11-07T11:50:50.188Z"
   },
   {
    "duration": 1494,
    "start_time": "2023-11-07T11:51:22.342Z"
   },
   {
    "duration": 505,
    "start_time": "2023-11-07T11:51:53.580Z"
   },
   {
    "duration": 468,
    "start_time": "2023-11-07T11:52:07.462Z"
   },
   {
    "duration": 3,
    "start_time": "2023-11-07T12:04:03.357Z"
   },
   {
    "duration": 4,
    "start_time": "2023-11-07T13:28:27.202Z"
   },
   {
    "duration": 4,
    "start_time": "2023-11-07T13:30:30.773Z"
   },
   {
    "duration": 5,
    "start_time": "2023-11-07T13:30:39.650Z"
   },
   {
    "duration": 4,
    "start_time": "2023-11-07T13:30:45.276Z"
   },
   {
    "duration": 115,
    "start_time": "2023-11-07T13:31:39.519Z"
   },
   {
    "duration": 15,
    "start_time": "2023-11-07T13:33:04.481Z"
   },
   {
    "duration": 3,
    "start_time": "2023-11-07T13:33:38.341Z"
   },
   {
    "duration": 1013,
    "start_time": "2023-11-07T13:33:38.892Z"
   },
   {
    "duration": 33,
    "start_time": "2023-11-07T13:33:40.150Z"
   },
   {
    "duration": 3,
    "start_time": "2023-11-07T13:33:40.589Z"
   },
   {
    "duration": 68,
    "start_time": "2023-11-07T13:33:41.227Z"
   },
   {
    "duration": 1320,
    "start_time": "2023-11-07T13:33:49.621Z"
   },
   {
    "duration": 2517,
    "start_time": "2023-11-07T13:33:52.541Z"
   },
   {
    "duration": 32,
    "start_time": "2023-11-07T13:33:55.060Z"
   },
   {
    "duration": 3,
    "start_time": "2023-11-07T13:33:56.496Z"
   },
   {
    "duration": 38,
    "start_time": "2023-11-07T13:33:58.831Z"
   },
   {
    "duration": 4227,
    "start_time": "2023-11-07T13:34:00.650Z"
   },
   {
    "duration": 1097,
    "start_time": "2023-11-07T13:34:11.889Z"
   },
   {
    "duration": 1113,
    "start_time": "2023-11-07T13:34:29.246Z"
   },
   {
    "duration": 4,
    "start_time": "2023-11-07T13:34:59.316Z"
   },
   {
    "duration": 2443,
    "start_time": "2023-11-07T13:35:29.890Z"
   },
   {
    "duration": 612,
    "start_time": "2023-11-07T13:36:13.252Z"
   },
   {
    "duration": 5,
    "start_time": "2023-11-07T13:38:18.906Z"
   },
   {
    "duration": 6559,
    "start_time": "2023-11-07T13:38:23.170Z"
   },
   {
    "duration": 15,
    "start_time": "2023-11-07T13:38:36.385Z"
   },
   {
    "duration": 7,
    "start_time": "2023-11-07T13:38:49.100Z"
   },
   {
    "duration": 5,
    "start_time": "2023-11-07T13:39:42.354Z"
   },
   {
    "duration": 3,
    "start_time": "2023-11-07T13:39:45.303Z"
   },
   {
    "duration": 1470,
    "start_time": "2023-11-07T13:39:45.766Z"
   },
   {
    "duration": 35,
    "start_time": "2023-11-07T13:39:47.239Z"
   },
   {
    "duration": 5,
    "start_time": "2023-11-07T13:39:47.276Z"
   },
   {
    "duration": 47,
    "start_time": "2023-11-07T13:39:47.836Z"
   },
   {
    "duration": 1361,
    "start_time": "2023-11-07T13:39:58.790Z"
   },
   {
    "duration": 2483,
    "start_time": "2023-11-07T13:40:00.947Z"
   },
   {
    "duration": 32,
    "start_time": "2023-11-07T13:40:03.432Z"
   },
   {
    "duration": 7,
    "start_time": "2023-11-07T13:40:03.466Z"
   },
   {
    "duration": 62,
    "start_time": "2023-11-07T13:40:06.159Z"
   },
   {
    "duration": 3283,
    "start_time": "2023-11-07T13:40:08.618Z"
   },
   {
    "duration": 1102,
    "start_time": "2023-11-07T13:40:13.599Z"
   },
   {
    "duration": 1120,
    "start_time": "2023-11-07T13:41:26.841Z"
   },
   {
    "duration": 4,
    "start_time": "2023-11-07T13:41:29.313Z"
   },
   {
    "duration": 3010,
    "start_time": "2023-11-07T13:41:31.855Z"
   },
   {
    "duration": 6777,
    "start_time": "2023-11-07T13:41:35.798Z"
   },
   {
    "duration": 15,
    "start_time": "2023-11-07T13:41:49.279Z"
   },
   {
    "duration": 5,
    "start_time": "2023-11-07T13:44:51.408Z"
   },
   {
    "duration": 1399,
    "start_time": "2023-11-07T13:45:05.367Z"
   },
   {
    "duration": 2705,
    "start_time": "2023-11-07T13:45:08.615Z"
   },
   {
    "duration": 32,
    "start_time": "2023-11-07T13:45:13.072Z"
   },
   {
    "duration": 3,
    "start_time": "2023-11-07T13:45:13.649Z"
   },
   {
    "duration": 40,
    "start_time": "2023-11-07T13:45:14.117Z"
   },
   {
    "duration": 3267,
    "start_time": "2023-11-07T13:45:14.634Z"
   },
   {
    "duration": 1076,
    "start_time": "2023-11-07T13:45:38.207Z"
   },
   {
    "duration": 1054,
    "start_time": "2023-11-07T13:45:40.577Z"
   },
   {
    "duration": 5,
    "start_time": "2023-11-07T13:45:54.496Z"
   },
   {
    "duration": 2592,
    "start_time": "2023-11-07T13:45:56.200Z"
   },
   {
    "duration": 711,
    "start_time": "2023-11-07T13:46:00.440Z"
   },
   {
    "duration": 11,
    "start_time": "2023-11-07T13:46:18.975Z"
   },
   {
    "duration": 10,
    "start_time": "2023-11-07T13:46:21.321Z"
   },
   {
    "duration": 3,
    "start_time": "2023-11-07T13:46:44.029Z"
   },
   {
    "duration": 2976,
    "start_time": "2023-11-07T13:46:46.169Z"
   },
   {
    "duration": 4,
    "start_time": "2023-11-07T13:47:40.297Z"
   },
   {
    "duration": 46645,
    "start_time": "2023-11-07T13:47:42.486Z"
   },
   {
    "duration": 14,
    "start_time": "2023-11-07T13:48:57.361Z"
   },
   {
    "duration": 18921,
    "start_time": "2023-11-07T13:50:34.903Z"
   },
   {
    "duration": 19,
    "start_time": "2023-11-07T13:54:27.721Z"
   },
   {
    "duration": 18417,
    "start_time": "2023-11-07T13:54:46.796Z"
   },
   {
    "duration": 149,
    "start_time": "2023-11-07T14:03:41.684Z"
   },
   {
    "duration": 6,
    "start_time": "2023-11-07T14:04:14.513Z"
   },
   {
    "duration": 4,
    "start_time": "2023-11-07T14:05:37.392Z"
   },
   {
    "duration": 2,
    "start_time": "2023-11-07T14:05:48.322Z"
   },
   {
    "duration": 17,
    "start_time": "2023-11-07T14:08:34.480Z"
   },
   {
    "duration": 3,
    "start_time": "2023-11-07T14:09:38.698Z"
   },
   {
    "duration": 6,
    "start_time": "2023-11-07T14:09:43.464Z"
   },
   {
    "duration": 18,
    "start_time": "2023-11-07T14:10:15.342Z"
   },
   {
    "duration": 16,
    "start_time": "2023-11-07T14:10:55.334Z"
   },
   {
    "duration": 8,
    "start_time": "2023-11-07T14:12:27.915Z"
   },
   {
    "duration": 14,
    "start_time": "2023-11-07T14:12:31.591Z"
   },
   {
    "duration": 1519,
    "start_time": "2023-11-07T14:12:53.726Z"
   },
   {
    "duration": 2688,
    "start_time": "2023-11-07T14:12:55.247Z"
   },
   {
    "duration": 35,
    "start_time": "2023-11-07T14:12:57.939Z"
   },
   {
    "duration": 25,
    "start_time": "2023-11-07T14:12:57.975Z"
   },
   {
    "duration": 74,
    "start_time": "2023-11-07T14:12:58.001Z"
   },
   {
    "duration": 3510,
    "start_time": "2023-11-07T14:13:02.152Z"
   },
   {
    "duration": 1235,
    "start_time": "2023-11-07T14:13:05.664Z"
   },
   {
    "duration": 1152,
    "start_time": "2023-11-07T14:13:43.476Z"
   },
   {
    "duration": 6,
    "start_time": "2023-11-07T14:13:46.318Z"
   },
   {
    "duration": 2902,
    "start_time": "2023-11-07T14:13:48.471Z"
   },
   {
    "duration": 57008,
    "start_time": "2023-11-07T14:14:24.838Z"
   },
   {
    "duration": 19198,
    "start_time": "2023-11-07T14:15:24.712Z"
   },
   {
    "duration": 18981,
    "start_time": "2023-11-07T14:15:46.131Z"
   },
   {
    "duration": 10,
    "start_time": "2023-11-07T14:16:21.715Z"
   },
   {
    "duration": 128,
    "start_time": "2023-11-07T14:16:24.874Z"
   },
   {
    "duration": 1379,
    "start_time": "2023-11-08T15:39:28.521Z"
   },
   {
    "duration": 2423,
    "start_time": "2023-11-08T15:39:30.929Z"
   },
   {
    "duration": 29,
    "start_time": "2023-11-08T15:39:33.354Z"
   },
   {
    "duration": 136,
    "start_time": "2023-11-08T15:39:33.385Z"
   },
   {
    "duration": 176,
    "start_time": "2023-11-08T15:39:33.523Z"
   },
   {
    "duration": 3613,
    "start_time": "2023-11-08T15:39:36.445Z"
   },
   {
    "duration": 1231,
    "start_time": "2023-11-08T15:39:40.947Z"
   },
   {
    "duration": 1231,
    "start_time": "2023-11-08T15:39:42.987Z"
   },
   {
    "duration": 4,
    "start_time": "2023-11-08T15:39:45.341Z"
   },
   {
    "duration": 2478,
    "start_time": "2023-11-08T15:39:45.669Z"
   },
   {
    "duration": 48770,
    "start_time": "2023-11-08T15:39:50.012Z"
   },
   {
    "duration": 16521,
    "start_time": "2023-11-08T15:40:41.677Z"
   },
   {
    "duration": 16650,
    "start_time": "2023-11-08T15:41:02.779Z"
   },
   {
    "duration": 4,
    "start_time": "2023-11-08T15:41:23.027Z"
   },
   {
    "duration": 202,
    "start_time": "2023-11-08T15:41:51.605Z"
   },
   {
    "duration": 4,
    "start_time": "2023-11-08T15:42:01.324Z"
   },
   {
    "duration": 3,
    "start_time": "2023-11-08T15:42:24.523Z"
   },
   {
    "duration": 3,
    "start_time": "2023-11-08T15:42:39.249Z"
   },
   {
    "duration": 4152,
    "start_time": "2023-11-08T15:43:15.833Z"
   },
   {
    "duration": 3,
    "start_time": "2023-11-08T15:43:28.408Z"
   },
   {
    "duration": 4,
    "start_time": "2023-11-08T15:43:36.907Z"
   },
   {
    "duration": 108,
    "start_time": "2023-11-08T15:43:40.989Z"
   },
   {
    "duration": 5,
    "start_time": "2023-11-08T15:43:44.645Z"
   },
   {
    "duration": 4,
    "start_time": "2023-11-08T15:43:50.762Z"
   },
   {
    "duration": 4,
    "start_time": "2023-11-08T15:51:11.727Z"
   },
   {
    "duration": 1164,
    "start_time": "2023-11-08T15:52:14.201Z"
   },
   {
    "duration": 3,
    "start_time": "2023-11-08T15:53:26.913Z"
   },
   {
    "duration": 1152,
    "start_time": "2023-11-08T15:53:27.839Z"
   },
   {
    "duration": 35,
    "start_time": "2023-11-08T15:53:29.176Z"
   },
   {
    "duration": 3,
    "start_time": "2023-11-08T15:53:29.612Z"
   },
   {
    "duration": 76,
    "start_time": "2023-11-08T15:53:29.893Z"
   },
   {
    "duration": 1352,
    "start_time": "2023-11-08T15:53:41.855Z"
   },
   {
    "duration": 2732,
    "start_time": "2023-11-08T15:53:44.836Z"
   },
   {
    "duration": 34,
    "start_time": "2023-11-08T15:53:48.985Z"
   },
   {
    "duration": 4,
    "start_time": "2023-11-08T15:53:50.918Z"
   },
   {
    "duration": 50,
    "start_time": "2023-11-08T15:53:51.415Z"
   },
   {
    "duration": 3559,
    "start_time": "2023-11-08T15:53:51.979Z"
   },
   {
    "duration": 1142,
    "start_time": "2023-11-08T15:53:57.134Z"
   },
   {
    "duration": 1222,
    "start_time": "2023-11-08T15:53:59.108Z"
   },
   {
    "duration": 5,
    "start_time": "2023-11-08T15:54:12.837Z"
   },
   {
    "duration": 2618,
    "start_time": "2023-11-08T15:54:17.360Z"
   },
   {
    "duration": 50501,
    "start_time": "2023-11-08T15:54:22.161Z"
   },
   {
    "duration": 16143,
    "start_time": "2023-11-08T16:19:22.572Z"
   },
   {
    "duration": 16084,
    "start_time": "2023-11-08T16:19:39.893Z"
   },
   {
    "duration": 223,
    "start_time": "2023-11-08T16:22:16.228Z"
   },
   {
    "duration": 2,
    "start_time": "2023-11-08T16:22:18.300Z"
   },
   {
    "duration": 7023,
    "start_time": "2023-11-08T16:22:21.744Z"
   },
   {
    "duration": 7167,
    "start_time": "2023-11-08T16:22:33.112Z"
   },
   {
    "duration": 4,
    "start_time": "2023-11-08T16:24:24.597Z"
   },
   {
    "duration": 12,
    "start_time": "2023-11-08T16:25:59.275Z"
   },
   {
    "duration": 21,
    "start_time": "2023-11-08T16:33:44.180Z"
   },
   {
    "duration": 14,
    "start_time": "2023-11-08T16:33:48.694Z"
   },
   {
    "duration": 4,
    "start_time": "2023-11-08T16:34:08.755Z"
   },
   {
    "duration": 19,
    "start_time": "2023-11-08T16:34:17.512Z"
   },
   {
    "duration": 91022,
    "start_time": "2023-11-08T16:34:37.773Z"
   },
   {
    "duration": 2573,
    "start_time": "2023-11-08T16:38:22.634Z"
   },
   {
    "duration": 120447,
    "start_time": "2023-11-08T16:38:28.405Z"
   },
   {
    "duration": 11,
    "start_time": "2023-11-08T16:40:57.344Z"
   },
   {
    "duration": 121,
    "start_time": "2023-11-08T16:42:11.894Z"
   },
   {
    "duration": 4,
    "start_time": "2023-11-08T16:42:19.650Z"
   },
   {
    "duration": 9,
    "start_time": "2023-11-08T16:42:31.644Z"
   },
   {
    "duration": 4,
    "start_time": "2023-11-08T16:42:58.812Z"
   },
   {
    "duration": 69,
    "start_time": "2023-11-08T16:43:16.038Z"
   },
   {
    "duration": 129,
    "start_time": "2023-11-08T16:43:51.715Z"
   },
   {
    "duration": 100983,
    "start_time": "2023-11-08T16:45:06.687Z"
   },
   {
    "duration": 11,
    "start_time": "2023-11-08T16:48:58.825Z"
   },
   {
    "duration": 4,
    "start_time": "2023-11-08T16:49:02.307Z"
   },
   {
    "duration": 1483,
    "start_time": "2023-11-08T19:15:52.773Z"
   },
   {
    "duration": 3006,
    "start_time": "2023-11-08T19:15:57.438Z"
   },
   {
    "duration": 33,
    "start_time": "2023-11-08T19:16:00.446Z"
   },
   {
    "duration": 40,
    "start_time": "2023-11-08T19:16:00.481Z"
   },
   {
    "duration": 71,
    "start_time": "2023-11-08T19:16:00.529Z"
   },
   {
    "duration": 3554,
    "start_time": "2023-11-08T19:16:23.740Z"
   },
   {
    "duration": 1278,
    "start_time": "2023-11-08T19:16:29.745Z"
   },
   {
    "duration": 1209,
    "start_time": "2023-11-08T19:16:32.888Z"
   },
   {
    "duration": 5,
    "start_time": "2023-11-08T19:16:35.324Z"
   },
   {
    "duration": 2869,
    "start_time": "2023-11-08T19:16:36.268Z"
   },
   {
    "duration": 1920,
    "start_time": "2023-11-09T17:14:21.378Z"
   },
   {
    "duration": 2573,
    "start_time": "2023-11-09T17:14:24.197Z"
   },
   {
    "duration": 37,
    "start_time": "2023-11-09T17:14:26.773Z"
   },
   {
    "duration": 39,
    "start_time": "2023-11-09T17:14:26.813Z"
   },
   {
    "duration": 52,
    "start_time": "2023-11-09T17:14:26.854Z"
   },
   {
    "duration": 3250,
    "start_time": "2023-11-09T17:14:27.543Z"
   },
   {
    "duration": 1185,
    "start_time": "2023-11-09T17:14:31.350Z"
   },
   {
    "duration": 1114,
    "start_time": "2023-11-09T17:14:33.104Z"
   },
   {
    "duration": 4,
    "start_time": "2023-11-09T17:14:34.538Z"
   },
   {
    "duration": 2657,
    "start_time": "2023-11-09T17:14:36.488Z"
   },
   {
    "duration": 51108,
    "start_time": "2023-11-09T17:14:42.276Z"
   },
   {
    "duration": 16509,
    "start_time": "2023-11-09T17:16:46.795Z"
   },
   {
    "duration": 17861,
    "start_time": "2023-11-09T17:18:17.267Z"
   },
   {
    "duration": 208,
    "start_time": "2023-11-09T17:18:37.171Z"
   },
   {
    "duration": 3,
    "start_time": "2023-11-09T17:18:38.456Z"
   },
   {
    "duration": 6794,
    "start_time": "2023-11-09T17:18:39.413Z"
   },
   {
    "duration": 3,
    "start_time": "2023-11-09T17:18:47.718Z"
   },
   {
    "duration": 10,
    "start_time": "2023-11-09T17:18:49.864Z"
   },
   {
    "duration": 141,
    "start_time": "2023-11-09T17:19:07.698Z"
   },
   {
    "duration": 716412,
    "start_time": "2023-11-09T17:19:33.293Z"
   },
   {
    "duration": 1486850,
    "start_time": "2023-11-09T17:31:57.755Z"
   },
   {
    "duration": 929100,
    "start_time": "2023-11-09T17:56:59.489Z"
   },
   {
    "duration": 85565,
    "start_time": "2023-11-09T18:17:42.917Z"
   },
   {
    "duration": 87098,
    "start_time": "2023-11-09T18:24:30.800Z"
   },
   {
    "duration": 31,
    "start_time": "2023-11-09T18:33:07.769Z"
   },
   {
    "duration": 959503,
    "start_time": "2023-11-09T18:33:52.785Z"
   },
   {
    "duration": 16,
    "start_time": "2023-11-09T19:05:20.535Z"
   },
   {
    "duration": 92925,
    "start_time": "2023-11-09T19:05:25.782Z"
   },
   {
    "duration": 3,
    "start_time": "2023-11-10T19:04:17.349Z"
   },
   {
    "duration": 3,
    "start_time": "2023-11-10T19:04:19.757Z"
   },
   {
    "duration": 983,
    "start_time": "2023-11-10T19:04:22.922Z"
   },
   {
    "duration": 35,
    "start_time": "2023-11-10T19:04:23.907Z"
   },
   {
    "duration": 3,
    "start_time": "2023-11-10T19:04:27.365Z"
   },
   {
    "duration": 146,
    "start_time": "2023-11-10T19:04:28.191Z"
   },
   {
    "duration": 1329,
    "start_time": "2023-11-10T19:04:36.140Z"
   },
   {
    "duration": 2540,
    "start_time": "2023-11-10T19:04:38.419Z"
   },
   {
    "duration": 37,
    "start_time": "2023-11-10T19:04:40.961Z"
   },
   {
    "duration": 13,
    "start_time": "2023-11-10T19:04:41.000Z"
   },
   {
    "duration": 42,
    "start_time": "2023-11-10T19:04:42.506Z"
   },
   {
    "duration": 3365,
    "start_time": "2023-11-10T19:04:43.564Z"
   },
   {
    "duration": 1197,
    "start_time": "2023-11-10T19:04:47.769Z"
   },
   {
    "duration": 1119,
    "start_time": "2023-11-10T19:04:50.627Z"
   },
   {
    "duration": 7,
    "start_time": "2023-11-10T19:04:52.289Z"
   },
   {
    "duration": 2611,
    "start_time": "2023-11-10T19:04:53.903Z"
   },
   {
    "duration": 51551,
    "start_time": "2023-11-10T19:04:59.661Z"
   },
   {
    "duration": 18695,
    "start_time": "2023-11-10T19:08:02.620Z"
   },
   {
    "duration": 18503,
    "start_time": "2023-11-10T19:08:41.134Z"
   },
   {
    "duration": 129,
    "start_time": "2023-11-10T19:10:53.644Z"
   },
   {
    "duration": 3,
    "start_time": "2023-11-10T19:10:54.361Z"
   },
   {
    "duration": 7437,
    "start_time": "2023-11-10T19:10:54.901Z"
   },
   {
    "duration": 3,
    "start_time": "2023-11-10T19:11:03.765Z"
   },
   {
    "duration": 11,
    "start_time": "2023-11-10T19:11:05.912Z"
   },
   {
    "duration": 1347,
    "start_time": "2023-11-10T21:03:08.923Z"
   },
   {
    "duration": 2438,
    "start_time": "2023-11-10T21:03:12.387Z"
   },
   {
    "duration": 30,
    "start_time": "2023-11-10T21:03:14.827Z"
   },
   {
    "duration": 3,
    "start_time": "2023-11-10T21:03:14.858Z"
   },
   {
    "duration": 33,
    "start_time": "2023-11-10T21:03:17.160Z"
   },
   {
    "duration": 3270,
    "start_time": "2023-11-10T21:03:19.539Z"
   },
   {
    "duration": 1042,
    "start_time": "2023-11-10T21:03:24.412Z"
   },
   {
    "duration": 1023,
    "start_time": "2023-11-10T21:03:25.948Z"
   },
   {
    "duration": 1054,
    "start_time": "2023-11-10T21:03:34.534Z"
   },
   {
    "duration": 3,
    "start_time": "2023-11-10T21:03:37.692Z"
   },
   {
    "duration": 2387,
    "start_time": "2023-11-10T21:03:37.979Z"
   },
   {
    "duration": 47677,
    "start_time": "2023-11-10T21:03:40.368Z"
   },
   {
    "duration": 3,
    "start_time": "2023-11-10T21:08:18.089Z"
   },
   {
    "duration": 865,
    "start_time": "2023-11-10T21:08:19.406Z"
   },
   {
    "duration": 27,
    "start_time": "2023-11-10T21:08:20.273Z"
   },
   {
    "duration": 13,
    "start_time": "2023-11-10T21:08:20.301Z"
   },
   {
    "duration": 52,
    "start_time": "2023-11-10T21:08:23.385Z"
   },
   {
    "duration": 1263,
    "start_time": "2023-11-10T21:08:33.867Z"
   },
   {
    "duration": 2424,
    "start_time": "2023-11-10T21:08:36.092Z"
   },
   {
    "duration": 30,
    "start_time": "2023-11-10T21:08:38.518Z"
   },
   {
    "duration": 17,
    "start_time": "2023-11-10T21:08:38.549Z"
   },
   {
    "duration": 55,
    "start_time": "2023-11-10T21:08:38.569Z"
   },
   {
    "duration": 3166,
    "start_time": "2023-11-10T21:08:42.472Z"
   },
   {
    "duration": 1059,
    "start_time": "2023-11-10T21:08:45.640Z"
   },
   {
    "duration": 1088,
    "start_time": "2023-11-10T21:08:47.526Z"
   },
   {
    "duration": 3,
    "start_time": "2023-11-10T21:09:58.758Z"
   },
   {
    "duration": 2462,
    "start_time": "2023-11-10T21:10:00.199Z"
   },
   {
    "duration": 49028,
    "start_time": "2023-11-10T21:10:05.070Z"
   },
   {
    "duration": 16101,
    "start_time": "2023-11-10T21:11:14.112Z"
   },
   {
    "duration": 16623,
    "start_time": "2023-11-10T21:11:33.039Z"
   },
   {
    "duration": 140,
    "start_time": "2023-11-10T21:11:53.084Z"
   },
   {
    "duration": 3,
    "start_time": "2023-11-10T21:11:54.395Z"
   },
   {
    "duration": 6350,
    "start_time": "2023-11-10T21:11:54.942Z"
   },
   {
    "duration": 3,
    "start_time": "2023-11-10T21:12:42.499Z"
   },
   {
    "duration": 9,
    "start_time": "2023-11-10T21:12:43.441Z"
   },
   {
    "duration": 110,
    "start_time": "2023-11-10T21:12:59.069Z"
   },
   {
    "duration": 50,
    "start_time": "2023-11-10T21:13:18.929Z"
   },
   {
    "duration": 5709943,
    "start_time": "2023-11-10T21:13:23.519Z"
   },
   {
    "duration": 13,
    "start_time": "2023-11-11T09:09:06.515Z"
   },
   {
    "duration": 402893,
    "start_time": "2023-11-11T09:14:56.443Z"
   },
   {
    "duration": 132008,
    "start_time": "2023-11-11T09:26:50.356Z"
   },
   {
    "duration": 20,
    "start_time": "2023-11-11T09:35:36.422Z"
   },
   {
    "duration": 1610330,
    "start_time": "2023-11-11T09:35:55.020Z"
   },
   {
    "duration": 132418,
    "start_time": "2023-11-11T10:04:32.354Z"
   },
   {
    "duration": 4,
    "start_time": "2023-11-11T10:09:41.682Z"
   },
   {
    "duration": 2,
    "start_time": "2023-11-11T10:10:06.662Z"
   },
   {
    "duration": 6581,
    "start_time": "2023-11-11T10:10:24.411Z"
   },
   {
    "duration": 39719,
    "start_time": "2023-11-11T10:14:42.236Z"
   },
   {
    "duration": 1389,
    "start_time": "2023-11-11T10:22:12.419Z"
   },
   {
    "duration": 8125,
    "start_time": "2023-11-11T10:24:06.134Z"
   },
   {
    "duration": 1141090,
    "start_time": "2023-11-11T10:24:26.957Z"
   },
   {
    "duration": 4,
    "start_time": "2023-11-11T13:00:13.302Z"
   },
   {
    "duration": 11366,
    "start_time": "2023-11-11T13:00:21.090Z"
   },
   {
    "duration": 13617,
    "start_time": "2023-11-11T13:15:13.144Z"
   },
   {
    "duration": 534574,
    "start_time": "2023-11-11T13:19:47.427Z"
   },
   {
    "duration": 11038,
    "start_time": "2023-11-11T13:38:36.024Z"
   },
   {
    "duration": 1188,
    "start_time": "2023-11-11T14:20:23.330Z"
   },
   {
    "duration": 3534,
    "start_time": "2023-11-11T14:20:24.520Z"
   },
   {
    "duration": 29,
    "start_time": "2023-11-11T14:20:28.056Z"
   },
   {
    "duration": 3,
    "start_time": "2023-11-11T14:20:28.086Z"
   },
   {
    "duration": 47,
    "start_time": "2023-11-11T14:20:28.090Z"
   },
   {
    "duration": 1779,
    "start_time": "2023-11-11T14:21:10.530Z"
   },
   {
    "duration": 3520,
    "start_time": "2023-11-11T14:21:12.312Z"
   },
   {
    "duration": 29,
    "start_time": "2023-11-11T14:21:15.833Z"
   },
   {
    "duration": 6,
    "start_time": "2023-11-11T14:21:15.864Z"
   },
   {
    "duration": 57,
    "start_time": "2023-11-11T14:21:15.872Z"
   },
   {
    "duration": 10,
    "start_time": "2023-11-11T14:21:15.931Z"
   },
   {
    "duration": 14,
    "start_time": "2023-11-11T14:21:15.942Z"
   },
   {
    "duration": 20,
    "start_time": "2023-11-11T14:21:15.957Z"
   },
   {
    "duration": 12,
    "start_time": "2023-11-11T14:21:15.978Z"
   },
   {
    "duration": 33,
    "start_time": "2023-11-11T14:21:15.992Z"
   },
   {
    "duration": 15,
    "start_time": "2023-11-11T14:21:16.027Z"
   },
   {
    "duration": 1181,
    "start_time": "2023-11-11T17:08:52.887Z"
   },
   {
    "duration": 312,
    "start_time": "2023-11-11T17:09:00.968Z"
   },
   {
    "duration": 3464,
    "start_time": "2023-11-11T17:09:02.511Z"
   },
   {
    "duration": 31,
    "start_time": "2023-11-11T17:09:05.976Z"
   },
   {
    "duration": 3,
    "start_time": "2023-11-11T17:09:08.069Z"
   },
   {
    "duration": 34,
    "start_time": "2023-11-11T17:09:09.558Z"
   },
   {
    "duration": 5,
    "start_time": "2023-11-11T17:10:33.883Z"
   },
   {
    "duration": 2584,
    "start_time": "2023-11-11T17:10:37.277Z"
   },
   {
    "duration": 388,
    "start_time": "2023-11-11T17:10:42.923Z"
   },
   {
    "duration": 5,
    "start_time": "2023-11-11T17:11:04.477Z"
   },
   {
    "duration": 4,
    "start_time": "2023-11-11T17:11:44.147Z"
   },
   {
    "duration": 267,
    "start_time": "2023-11-11T17:11:47.748Z"
   },
   {
    "duration": 628,
    "start_time": "2023-11-11T17:15:40.388Z"
   },
   {
    "duration": 653051,
    "start_time": "2023-11-11T17:15:44.373Z"
   },
   {
    "duration": 214764,
    "start_time": "2023-11-11T17:28:31.474Z"
   },
   {
    "duration": 216156,
    "start_time": "2023-11-11T17:32:20.565Z"
   },
   {
    "duration": 8,
    "start_time": "2023-11-11T17:38:29.421Z"
   },
   {
    "duration": 4,
    "start_time": "2023-11-11T17:38:38.488Z"
   },
   {
    "duration": 2,
    "start_time": "2023-11-11T17:38:39.111Z"
   },
   {
    "duration": 6517,
    "start_time": "2023-11-11T17:38:41.592Z"
   },
   {
    "duration": 3,
    "start_time": "2023-11-11T17:38:54.117Z"
   },
   {
    "duration": 11,
    "start_time": "2023-11-11T17:38:54.552Z"
   },
   {
    "duration": 45,
    "start_time": "2023-11-11T17:38:59.057Z"
   },
   {
    "duration": 1184242,
    "start_time": "2023-11-11T17:39:26.166Z"
   },
   {
    "duration": 14631,
    "start_time": "2023-11-11T18:00:57.289Z"
   }
  ],
  "kernelspec": {
   "display_name": "Python 3 (ipykernel)",
   "language": "python",
   "name": "python3"
  },
  "language_info": {
   "codemirror_mode": {
    "name": "ipython",
    "version": 3
   },
   "file_extension": ".py",
   "mimetype": "text/x-python",
   "name": "python",
   "nbconvert_exporter": "python",
   "pygments_lexer": "ipython3",
   "version": "3.11.11"
  },
  "toc": {
   "base_numbering": 1,
   "nav_menu": {},
   "number_sections": true,
   "sideBar": true,
   "skip_h1_title": true,
   "title_cell": "Содержание",
   "title_sidebar": "Contents",
   "toc_cell": true,
   "toc_position": {
    "height": "calc(100% - 180px)",
    "left": "10px",
    "top": "150px",
    "width": "302.391px"
   },
   "toc_section_display": true,
   "toc_window_display": false
  }
 },
 "nbformat": 4,
 "nbformat_minor": 4
}
